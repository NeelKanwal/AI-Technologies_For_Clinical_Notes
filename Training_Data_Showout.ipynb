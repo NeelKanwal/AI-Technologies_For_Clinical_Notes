{
  "nbformat": 4,
  "nbformat_minor": 0,
  "metadata": {
    "accelerator": "TPU",
    "colab": {
      "name": "Training_Data_NL.ipynb",
      "provenance": [],
      "collapsed_sections": []
    },
    "kernelspec": {
      "display_name": "Python 3",
      "language": "python",
      "name": "python3"
    },
    "language_info": {
      "codemirror_mode": {
        "name": "ipython",
        "version": 3
      },
      "file_extension": ".py",
      "mimetype": "text/x-python",
      "name": "python",
      "nbconvert_exporter": "python",
      "pygments_lexer": "ipython3",
      "version": "3.7.3"
    }
  },
  "cells": [
    {
      "cell_type": "markdown",
      "metadata": {
        "id": "wpq0nSa0xQ_7",
        "colab_type": "text"
      },
      "source": [
        "#Training Data\n",
        "This notebook will show how the data was structured from different files of MIMIC to design the model. First Section will show you , How it was arranged to check it from local host location. Outputs are Visible to some operations.\n",
        "\n"
      ]
    },
    {
      "cell_type": "code",
      "metadata": {
        "colab_type": "code",
        "id": "7XlJeQE9uwEY",
        "colab": {}
      },
      "source": [
        "import json\n",
        "import pandas as pd\n",
        "import os\n",
        "\n",
        "file_path = 'C:\\\\Users\\\\KAKA-HPC\\\\Downloads\\\\'\n",
        "train_csv = os.path.join(os.path.dirname(file_path), \"notes_labeled_train.ndjson\")\n",
        "\n",
        "with open(train_csv) as f:\n",
        "    content=[]\n",
        "    for line in f:\n",
        "        content = json.loads(line)\n",
        "print(content)\n",
        "# pre processed file"
      ],
      "execution_count": 0,
      "outputs": []
    },
    {
      "cell_type": "code",
      "metadata": {
        "id": "XMBT6KgCE5ng",
        "colab_type": "code",
        "outputId": "1357c53d-4de4-47be-93ad-be1a5ba97559",
        "colab": {}
      },
      "source": [
        "%pwd\n"
      ],
      "execution_count": 0,
      "outputs": [
        {
          "output_type": "execute_result",
          "data": {
            "text/plain": [
              "'C:\\\\Users\\\\KAKA-HPC\\\\Downloads'"
            ]
          },
          "metadata": {
            "tags": []
          },
          "execution_count": 9
        }
      ]
    },
    {
      "cell_type": "markdown",
      "metadata": {
        "colab_type": "text",
        "id": "yZ04iwe2uwEd"
      },
      "source": [
        "Just for a better visualization."
      ]
    },
    {
      "cell_type": "code",
      "metadata": {
        "colab_type": "code",
        "id": "Ozr4hoCUuwEe",
        "outputId": "007ab650-4ec2-4796-9317-6d693882cae5",
        "colab": {}
      },
      "source": [
        "len(content)"
      ],
      "execution_count": 0,
      "outputs": [
        {
          "output_type": "execute_result",
          "data": {
            "text/plain": [
              "5"
            ]
          },
          "metadata": {
            "tags": []
          },
          "execution_count": 2
        }
      ]
    },
    {
      "cell_type": "markdown",
      "metadata": {
        "colab_type": "text",
        "id": "WgJMI1QnuwEg"
      },
      "source": [
        "Patient ID: From records with all diagnosis"
      ]
    },
    {
      "cell_type": "code",
      "metadata": {
        "colab_type": "code",
        "id": "i49C5I0guwEh",
        "outputId": "78cc98e1-3bc3-4df2-91bd-f442f15a6c27",
        "colab": {}
      },
      "source": [
        "print(content[0])"
      ],
      "execution_count": 0,
      "outputs": [
        {
          "output_type": "stream",
          "text": [
            "83532\n"
          ],
          "name": "stdout"
        }
      ]
    },
    {
      "cell_type": "markdown",
      "metadata": {
        "colab_type": "text",
        "id": "C4hw9RccuwEj"
      },
      "source": [
        "Hospital Admission ID:"
      ]
    },
    {
      "cell_type": "code",
      "metadata": {
        "colab_type": "code",
        "id": "za6nc2P1uwEj",
        "outputId": "2b898544-56a0-4db8-be28-44b51552c4d8",
        "colab": {}
      },
      "source": [
        "print(content[1])"
      ],
      "execution_count": 0,
      "outputs": [
        {
          "output_type": "stream",
          "text": [
            "180932\n"
          ],
          "name": "stdout"
        }
      ]
    },
    {
      "cell_type": "markdown",
      "metadata": {
        "colab_type": "text",
        "id": "XDa26LARuwEl"
      },
      "source": [
        "Diagnosis Summary"
      ]
    },
    {
      "cell_type": "code",
      "metadata": {
        "colab_type": "code",
        "id": "I9xsrbocuwEm",
        "outputId": "ab9f5c0c-79c0-45c4-8d51-6a9e089529b7",
        "colab": {}
      },
      "source": [
        "print(content[2][1])\n"
      ],
      "execution_count": 0,
      "outputs": [
        {
          "output_type": "stream",
          "text": [
            "['february', 'discharge', 'date']\n"
          ],
          "name": "stdout"
        }
      ]
    },
    {
      "cell_type": "markdown",
      "metadata": {
        "id": "fKuO_wOMxuBT",
        "colab_type": "text"
      },
      "source": [
        "Length of Text tokens in Content[2]\n"
      ]
    },
    {
      "cell_type": "code",
      "metadata": {
        "colab_type": "code",
        "id": "DY90XzfRuwEo",
        "outputId": "b7edcddd-e231-49e0-eb6f-35ecd17ee5ce",
        "colab": {}
      },
      "source": [
        "print(content[3])"
      ],
      "execution_count": 0,
      "outputs": [
        {
          "output_type": "stream",
          "text": [
            "2592\n"
          ],
          "name": "stdout"
        }
      ]
    },
    {
      "cell_type": "markdown",
      "metadata": {
        "colab_type": "text",
        "id": "uggskwIouwEp"
      },
      "source": [
        "ICD_9 Codes labeled based on discharge Summaries."
      ]
    },
    {
      "cell_type": "code",
      "metadata": {
        "colab_type": "code",
        "id": "_ajIDZ2tuwEq",
        "outputId": "73868e0c-6aad-4f19-9385-f72881695978",
        "colab": {}
      },
      "source": [
        "print(content[4])"
      ],
      "execution_count": 0,
      "outputs": [
        {
          "output_type": "stream",
          "text": [
            "['428.23', '570', '425.4', '416.8', '578.1', '428.0', '403.90', '585.9', '780.2', '573.8', 'V53.32', '493.90', '285.9', '790.92', '530.81', '311', 'V58.61', '37.23', '38.97', '89.49']\n"
          ],
          "name": "stdout"
        }
      ]
    },
    {
      "cell_type": "markdown",
      "metadata": {
        "colab_type": "text",
        "id": "Tk4pI--4uwEs"
      },
      "source": [
        "Single View of Description of text relevant to one Pateint"
      ]
    },
    {
      "cell_type": "code",
      "metadata": {
        "colab_type": "code",
        "id": "3R8qgm4ruwEs",
        "outputId": "9f639390-42cd-4728-afde-6605c237cf8c",
        "colab": {}
      },
      "source": [
        "from functools import reduce\n",
        "import operator\n",
        "te=reduce(operator.add, content[2])\n",
        "te= ' '.join(te)\n",
        "te\n",
        "#view= ' '.join(content[2])"
      ],
      "execution_count": 0,
      "outputs": [
        {
          "output_type": "execute_result",
          "data": {
            "text/plain": [
              "\"admission date february discharge date february date of birth january sex m service medicine allergies azithromycin gadopentetate dimeglumine morphine sulfate keflex iodine iodine containing attending lastnametoken chief complaint syncope major surgical or invasive procedure cardiac catheterization central line placement and removal picc line placement history of present illness mr. lastnametoken is a year old man with dilated cardiomyopathy ef on coumadin s p icd in htn ckd baseline cr and asthma who presents with syncope the patient was recently discharged on february for acute on chronic chf after receiving aggressive diuresis he then continued to develop abdominal discomfort nausea and vomitting and he was unable to keep his medications down he then developed worsening coughing spells and it was in the setting of a severe coughing spell when he had a witnesssed syncopal event for about seconds per the patient 's mother the patient was pale and cyanotic he quickly recovered and was sent to the er who admitted him to the cardiology service on the cardiology service his abdominal pain nausea vomitting was felt to be secondary to congestive hepatopathy his cough due to chf vs asthma and his syncope was felt to be secondary to a coughing spell leading to increased intra abdominal pressures and therefore reduced preload in the setting of low output state his icd interrogation was negative for any events he was aggressively diuresed with a net liters negative since admission he underwent rhc for milrinone trial which proved to be successful his mean pcw went from to and his fick c.i. went from to on the floor he is complaining of a frontal headache he denies weakness speech vision problems seizures nausea vomitting unilaterality photophobia phonophobia he denies chest pain or shortness of breath he also gives a several month history of significant brbpr he had a colonoscopy for this in which showed polyps that were removed he recently saw gi who felt his bleeding was likely due to internal hemorrhoids or a fissure and referred him to colorectal surgery who he has not yet seen on review of systems he denies any prior history of stroke tia deep venous thrombosis pulmonary embolism bleeding at the time of surgery myalgias joint pains cough hemoptysis black stools he denies recent fevers chills or rigors he denies exertional buttock or calf pain all of the other review of systems were negative cardiac review of systems is notable for absence of chest pain paroxysmal nocturnal dyspnea ankle edema palpitations past medical history cardiac risk factors diabetes dyslipidemia hypertension cardiac history non ischemic dilated cardiomyopathy ef etiology takotsubo vs. alcohol induced per omr review on coumadin for dilated lv cabg none percutaneous coronary interventions percutaneous coronary intervention in june without evidence of coronary disease pacing icd aicd placement october other past medical history asthma depression gerd chronic kidney disease baseline creatinine s p achilles repair social history he lives with his children not married originally from pr former correctional officer x years on disability x2 years since cardiomyopathy diagnosis no etoh x years history of recreational cocaine last used years ago no tobacco use family history father years valve replacement cabg months ago mother years diabetes hypertension brothers hypertension asthma children years asthma colon cancer in maternal grandmother and maternal aunts physical exam admission exam t hr rr ra kg gen obese male appears tired nad aaox3 neck jvp pulsatile at the mandible heart rr nl s1 s2 s3 no murmurs lungs ctabl abd obese very ttp in right quadrant rebound guarding left side not ttp ext lower extremity edema discharge exam s ra wt orthostatic vs hr bp stable gen male lying in bed in nad comfortable appearing aaox3 heent ncat mmm neck supple jvp heart rrr nl s1 s2 no murmurs lungs decreased rales good aeration and expansion no apparent respiratory distress abd soft obese nontender nondistended nabs ext no edema pertinent results admission labs february 30pm blood wbc rbc hgb hct mcv mch mchc rdw plt ct february 30pm blood neuts lymphs monos eos baso february 30pm blood pt ptt inr pt february 30pm blood glucose urean creat na k cl hco3 angap february 30pm blood alt ast alkphos totbili february 30pm blood ctropnt february 43pm blood ctropnt february 43pm blood lipase february 30pm blood calcium phos mg iron studies february 47pm blood caltibc ferritn trf iron discharge labs february 00am blood wbc rbc hgb hct mcv mch mchc rdw plt ct february 00am blood pt ptt inr pt february 00am blood glucose urean creat na k cl hco3 angap february 00am blood calcium phos mg february admission ekg nsr sinus rhythm with ventricular premature beats borderline p r interval prolongation low limb lead voltage there is somewhat late r wave progression since the previous tracing probably no significant change february admission cxr frontal and lateral chest radiograph the lungs are clear there is no focal consolidation or pneumothorax there is no vascular congestion or pleural effusions mediastinal and hilar contours are within normal limits moderately severe cardiomegaly is unchanged compared to prior examination an aicd generator overlies the left chest wall the lead appears intact terminating in the expected location of the right ventricle impression moderate to severe cardiomegaly consistent with history of known cardiomyopathy no pulmonary edema pleural effusion or focal consolidation to suggest pneumonia february admission ct head non contrast head ct there is no hemorrhage mass mass effect or acute large territorial infarction there is no shift of the usually midline structures the suprasellar and basilar cisterns are widely patent the ventricles and sulci are normal in size and configuration doctorlastnametoken white matter differentiation is preserved throughout there is a moderate soft tissue thickening in the subcutaneous tissues of the left occiput which is unchanged from prior examination no acute hematoma or skull fracture is identified the visualized paranasal sinuses and mastoid air cells are well aerated impression no acute intracranial process february ct abd pelvis abdomen the lung bases are clear without focal lesion there is moderate cardiomegaly a pacemaker wire terminates in the right ventricle unchanged the heart is otherwise unremarkable the pleura and pericardium are intact without effusion evaluation of intra abdominal organs is limited by lack of iv contrast within these limitations the liver appears unremarkable without focal or diffuse abnormality the gallbladder is normal no intra or extra hepatic bile duct dilatation the pancreas appears within normal limits the spleen appears unremarkable bilateral adrenal glands are normal bilateral kidneys are unremarkable the esophagus and stomach are normal the small and large bowel are normal in course and caliber oral contrast reaches the rectum colonic diverticulosis is present without evidence of diverticulitis the appendix is normal and filled with air a small amount of fluid is present in perisplenic and perihepatic regions mild thickening of bilateral gerota 's fascia bilateral lateral conal fascia and mesentery are present no pathologically enlarged retroperitoneal or mesenteric lymph nodes no pneumoperitoneum or abdominal wall hernia small scattered calcifications are present of bilateral common iliac arteries pelvis the bladder is normal dystrophic calcifications of the prostate are present no pathologically enlarged pelvic wall or inguinal lymph nodes a small amount of pelvic fluid is present osseous structures mild degenerative changes are present at several levels of the thoracolumbar spine with osteophytosis no focal lytic or sclerotic lesions concerning for malignancy no acute fractures impression within the limitations of this non contrast study no acute abdominal organ pathology is appreciated no evidence of bowel ischemia or obstruction small amount of intraabdominal and pelvic fluid with mild fat and mesenteric stranding may be due to fluid overload moderate cardiomegaly colonic diverticulosis without diverticulitis february cardiac catheterization comments limited resting hemodynamics revealed significantly elevated biventricular filling pressures rvedp 22mmhg and mean pcw 30mmhg there was moderate pulmonary artery hypertension at rest with mild elevation in pvr 11mmhg with dynes sec cm the cardiac output and index were depressed l min and l min m2 after a milrinone bolus the pcw dropped to 22mmhg mean and mean pa dropped to 36mmhg the cardiac output and index improved significantly l min and l min m2 final diagnosis moderate systolic and diastolic ventricular dysfunction moderate secondary pulmonary venous hypertension marked improvement in systolic function with milrinone february fluoroscopy guided picc line placement impression uncomplicated ultrasound and fluoroscopically guided double lumen picc line placement via the right brachial vein final internal length is cm with the tip positioned in the distal svc the line is ready to use brief hospital course m with idiopathic dilated cardiomyopathy ef on coumadin s p icd placement htn ckd baseline cr asthma who presents with syncope found to be in acute on chronic heart failure acute on chronic systolic heart failure underlying exacerbation of chronic heart failure february known idiopathic cardiomyopathy likely explanation for numerous presenting symptoms including syncope abdominal pain and dyspnea last echo august showed lvef he was admitted in the setting of low output heart failure leading to increased intra abdominal pressures causing congestive hepatopathy abdominal pain ruq tenderness abdominal distension also thought to contribute to syncope cardiac output and wedge pressure significantly improved after milrinone infusion in the icu he was maintained on milrinone at a rate of mcg hr and transferred to the floor on this stable dose torsemide mg daily was restarted he was discharged on milrinone and torsemide heart failure specialists had honest discussions with the patient about his long term prognosis he will continue to be followed closely in heart failure clinic at hospitaltoken and will continue work up for potential heart transplant at hospitaltoken hospitaltoken congestive hepatopathy patient presented w/a tender enlarged liver most likely secondary to vascular congestion team initially consider portal venous thrombosis exonerated by negative ruq u s on february alcoholic hepatitis viral hepatitis but negative viral screen and/or hemachromatosis iron studies negative ultrasound demonstrated some fatty infiltration suggestive of either alcoholic hepatitis or nash tender hepatomegaly resolved after initiation of milrinone and diuresis for kg chronic microcytic anemia mcv suggestive of anemia february iron deficiency and/or chronic inflammation iron studies wnl anticoagulation patient on coumadin mg qd for lifelong prevention of atrial thrombus given his dilated cardiomyopathy his inr was initially elevated likely in the setting of worsening heart failure inflammation so coumadin was decreased to mg qd given total of mg vitamin k on february and february to reverse inr prior to cardiac catheterization for milrinone trial thereafter his coumadin was restarted but inr continued to be low due to persistent effects of large dose vitamin k. discharged on coumadin mg qd expect gradual rise in inr even without coumadin dose increase transitional issues follow up heart failure symptoms dr. firstnametoken to modify medical management prn heart transplant workup at hospitaltoken needs pfts not able to obtain here follow up any issues surrounding home milrinone infusion any ectopy trend hct medications on admission albuterol sulfate mcg actuation hfa aerosol inhaler sig puffs inhalation q6h every hours as needed for wheezing citalopram mg tablet sig two tablet po daily daily esomeprazole magnesium mg capsule delayed release e.c. sig one capsule delayed release e.c. po once a day fluticasone mcg actuation aerosol sig two puff inhalation hospitaltoken times a day hydrocortisone acetate mg suppository sig one suppository rectal at bedtime please take under direction of your pcp losartan mg tablet sig one tablet po daily daily metoprolol succinate mg tablet extended release hr sig one tablet extended release hr po once a day montelukast mg tablet chewable sig one tablet chewable po once a day warfarin mg tablet sig one tablet po once daily at pm take as directed by the coumadin clinic docusate sodium mg capsule sig one capsule po bid times a day multivitamin tablet sig one tablet po daily daily torsemide mg tablet sig four tablet po once a day potassium chloride meq tablet er particles crystals sig two tablet er particles crystals po once a day please take with breakfast spironolactone mg tablet sig one tablet po once a day codeine sulfate mg tablet sig one tablet po at bedtime as needed for cough disp tablet s refills benzonatate mg capsule sig one capsule po tid times a day as needed for cough disp capsule s refills anecream cream sig one application topical twice a day as needed for pain apply to affected area twice daily as needed multivitamin tablet sig one tablet po once a day discharge medications milrinone in d5w mcg ml piggyback sig mcg kg min intravenous infusion continuous infusion weight kg disp qs mcg kg min refills citalopram mg tablet sig two tablet po daily daily esomeprazole magnesium mg capsule delayed release e.c. sig one capsule delayed release e.c. po once a day losartan mg tablet sig one tablet po daily daily metoprolol succinate mg tablet extended release hr sig one tablet extended release hr po daily daily docusate sodium mg capsule sig two capsule po bid times a day multivitamin tablet sig one tablet po daily daily spironolactone mg tablet sig one tablet po daily daily torsemide mg tablet sig four tablet po once a day disp tablet s refills fluticasone salmeterol mcg dose disk with device sig one puff inhalation hospitaltoken times a day disp disc refills singulair mg tablet chewable sig one tablet chewable po once a day warfarin mg tablet sig one tablet po once a day hydrocortisone acetate mg suppository sig one suppository rectal at bedtime under direction of your pcp albuterol sulfate mcg actuation hfa aerosol inhaler sig puffs inhalation four times a day discharge disposition home with service facility hospitaltoken nametoken discharge diagnosis diabetes dyslipidemia hypertension non ischemic dilated cardiomyopathy chronic systolic heart failure chronic kidney disease discharge condition mental status clear and coherent level of consciousness alert and interactive activity status ambulatory independent discharge instructions dear mr. lastnametoken you were admitted to the hospital with worsening heart failure you had a cardiac catheterization that showed you would benefit from milrinone you were started on a milrinone drip with improvement in your heart 's pump function you were also diuresed for liters of fluid you will continue to receive milrinone at home an infusion company will continue to instruct you and your family on home use of milrinone we made the following changes to your medications stopped flovent inhaler stopped potassium supplements started advair inhaler puff daily you should continue to take torsemide mg daily spironolactone mg daily losartan mg daily toprol xl mg daily singulair mg daily albuterol inhaler as before mg coumadin daily until instructed by hospitaltoken clinic celexa mg daily esomeprazole mg daily colace mg hospitaltoken daily multivitamin rectal suppositories please review the attached medication list with your doctor at your next appointment followup instructions department hospitaltoken when wednesday march at am with firstnametoken lastnametoken md companynametoken post hospitaltoken clinic telephonenumbertoken building sc hospitaltoken clinical ctr locationtoken campus east best parking hospitaltoken garage this appointment is with a hospital based doctor as part of your transition from the hospital back to your primary care provider nametoken this visit you will see your regular primary care doctor in follow up you should have labs checked chem7 at this pcp nametoken appointment next week department cardiac services when monday march at am with dr firstnametoken doctorlastnametoken telephonenumbertoken building sc hospitaltoken clinical ctr locationtoken campus east best parking hospitaltoken garage you will be contact nametoken by nametoken medical center 's heart transplant program with an appointment in the near future if you do not hear from them please call dr. nametoken office or discuss this issue with him at your follow up appointment hospitaltoken will arrange for pfts\""
            ]
          },
          "metadata": {
            "tags": []
          },
          "execution_count": 15
        }
      ]
    },
    {
      "cell_type": "markdown",
      "metadata": {
        "id": "ExWla7Obx5Tk",
        "colab_type": "text"
      },
      "source": [
        "Data Restructured for BertEmbeddings. Note that Bert Embeddings are contexutal embeddings and requires sentence level understanding of works. Tokens like [CLS] & [SEP] are defined to tokenize in a predefined way.\n",
        "\n",
        "\n"
      ]
    },
    {
      "cell_type": "code",
      "metadata": {
        "id": "EWnZizFDE5oA",
        "colab_type": "code",
        "colab": {}
      },
      "source": [
        "from google.colab import drive\n",
        "drive.mount('/content/drive')\n"
      ],
      "execution_count": 0,
      "outputs": []
    },
    {
      "cell_type": "code",
      "metadata": {
        "colab_type": "code",
        "id": "Fg4nQjm5DFSd",
        "colab": {}
      },
      "source": [
        "import json\n",
        "import pandas as pd\n",
        "\n",
        "file_path = '/content/drive/My Drive/clinical_notes_ICD9/input_files/notes_labeled_train.ndjson'\n",
        "with open(file_path) as f:\n",
        "   with open('/content/new_labeled.ndjson', 'a+') as json_file:\n",
        "    content=[]\n",
        "    for line in f:\n",
        "        content = json.loads(line)\n",
        "        content[2]=[\"[CLS]\"]+ content[2]\n",
        "        for a,_lst in enumerate(content[2]):\n",
        "          if a==0:\n",
        "            continue\n",
        "          content[2][a]=content[2][a]+[\"[SEP]\"]        \n",
        "        json.dump(content,json_file)\n",
        "        json_file.write('\\n')\n",
        "      "
      ],
      "execution_count": 0,
      "outputs": []
    },
    {
      "cell_type": "markdown",
      "metadata": {
        "id": "UnA1ZE_sydcX",
        "colab_type": "text"
      },
      "source": [
        "An excerpt for newly formated notes.\n",
        "\n",
        "['[CLS]', ['admission', 'date', '[SEP]'], ['october', '[SEP]'], ['discharge', 'date', '[SEP]'], ['october', '[SEP]'], ['date', 'of', 'birth', '[SEP]'], ['april', '[SEP]'], ['sex', 'm', 'service', 'medicine', '[SEP]'], ['chief', 'complaint', '[SEP]'], ['admitted', 'from', 'rehabilitation', 'for', 'hypotension', 'systolic', 'blood', 'pressure', 'to', 'the', '70s', 'and', 'decreased', 'urine', 'output', '[SEP]'],\n",
        "\n",
        "\n"
      ]
    },
    {
      "cell_type": "code",
      "metadata": {
        "id": "AJ-88BoyE5oE",
        "colab_type": "code",
        "colab": {}
      },
      "source": [
        "from itertools import chain\n",
        "y = list(chain(*content[2]))\n",
        "y= ' '.join(y)\n",
        "y"
      ],
      "execution_count": 0,
      "outputs": []
    },
    {
      "cell_type": "markdown",
      "metadata": {
        "id": "RCJP5pYGyluJ",
        "colab_type": "text"
      },
      "source": [
        "This how text is feed to tokenizer in chunks of 512 at once.\n",
        "\n",
        "\"[ C L S ] admission date [SEP] october [SEP] discharge date [SEP] october [SEP] date of birth [SEP] april [SEP] sex m service medicine [SEP] chief complaint [SEP] admitted from rehabilitation for hypotension systolic blood pressure to the 70s and decreased urine output [SEP] history of present illness [SEP] the patient is a year old male who had been hospitalized at the hospitaltoken from october through october of [SEP] after undergoing a left femoral at bypass graft and was subsequently discharged to a rehabilitation facility [SEP] on october [SEP] he presented again to the hospitaltoken after being found to have a systolic blood pressure in the 70s and no urine output for hours [SEP] a foley catheter placed at the rehabilitation facility yielded cc of murky brown urine [SEP] there may also have been purulent discharge at the penile meatus at this time [SEP]\n"
      ]
    },
    {
      "cell_type": "code",
      "metadata": {
        "id": "EuAWxj7HyuW-",
        "colab_type": "code",
        "colab": {}
      },
      "source": [
        ""
      ],
      "execution_count": 0,
      "outputs": []
    }
  ]
}