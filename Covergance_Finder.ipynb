{
  "nbformat": 4,
  "nbformat_minor": 0,
  "metadata": {
    "colab": {
      "name": "Covergance_Finder (1).ipynb",
      "provenance": [],
      "collapsed_sections": [],
      "include_colab_link": true
    },
    "kernelspec": {
      "name": "python3",
      "display_name": "Python 3"
    },
    "accelerator": "GPU"
  },
  "cells": [
    {
      "cell_type": "markdown",
      "metadata": {
        "id": "view-in-github",
        "colab_type": "text"
      },
      "source": [
        "<a href=\"https://colab.research.google.com/github/NeelKanwal/AI-Technologies_For_Clinical_Notes/blob/master/Covergance_Finder.ipynb\" target=\"_parent\"><img src=\"https://colab.research.google.com/assets/colab-badge.svg\" alt=\"Open In Colab\"/></a>"
      ]
    },
    {
      "cell_type": "markdown",
      "metadata": {
        "id": "zj7y0SaiIxKh",
        "colab_type": "text"
      },
      "source": [
        "To laod data from Google Drive, It can be upload in the file section but is volative to use.\n",
        "\n",
        "\n",
        "\n"
      ]
    },
    {
      "cell_type": "code",
      "metadata": {
        "id": "m9b4U8oG53gu",
        "colab_type": "code",
        "outputId": "cc24a39f-91ed-40b1-fce3-3eed81f9f1fb",
        "colab": {
          "base_uri": "https://localhost:8080/",
          "height": 207
        }
      },
      "source": [
        "!pip install jsonlines\n",
        "from google.colab import drive\n",
        "import sys\n",
        "drive.mount('/content/gdrive',force_remount=True)"
      ],
      "execution_count": 1,
      "outputs": [
        {
          "output_type": "stream",
          "text": [
            "Collecting jsonlines\n",
            "  Downloading https://files.pythonhosted.org/packages/4f/9a/ab96291470e305504aa4b7a2e0ec132e930da89eb3ca7a82fbe03167c131/jsonlines-1.2.0-py2.py3-none-any.whl\n",
            "Requirement already satisfied: six in /usr/local/lib/python3.6/dist-packages (from jsonlines) (1.12.0)\n",
            "Installing collected packages: jsonlines\n",
            "Successfully installed jsonlines-1.2.0\n",
            "Go to this URL in a browser: https://accounts.google.com/o/oauth2/auth?client_id=947318989803-6bn6qk8qdgf4n4g3pfee6491hc0brc4i.apps.googleusercontent.com&redirect_uri=urn%3aietf%3awg%3aoauth%3a2.0%3aoob&response_type=code&scope=email%20https%3a%2f%2fwww.googleapis.com%2fauth%2fdocs.test%20https%3a%2f%2fwww.googleapis.com%2fauth%2fdrive%20https%3a%2f%2fwww.googleapis.com%2fauth%2fdrive.photos.readonly%20https%3a%2f%2fwww.googleapis.com%2fauth%2fpeopleapi.readonly\n",
            "\n",
            "Enter your authorization code:\n",
            "··········\n",
            "Mounted at /content/gdrive\n"
          ],
          "name": "stdout"
        }
      ]
    },
    {
      "cell_type": "markdown",
      "metadata": {
        "id": "YzB9LqSnI4yj",
        "colab_type": "text"
      },
      "source": [
        "Just to change the directory to currect working directory for laoding files, useful incase working on specifing folders\n",
        "\n"
      ]
    },
    {
      "cell_type": "code",
      "metadata": {
        "id": "WhS5hEldXFVf",
        "colab_type": "code",
        "outputId": "9a3d7b0b-08f8-4bef-ffb5-e7b8044982f5",
        "colab": {
          "base_uri": "https://localhost:8080/",
          "height": 221
        }
      },
      "source": [
        "import os\n",
        "os.chdir(\"/content/gdrive/My Drive/clinical_notes_ICD9\")\n",
        "!ls"
      ],
      "execution_count": 2,
      "outputs": [
        {
          "output_type": "stream",
          "text": [
            " clinicalNLP.yml\t\t        log_reg.py\n",
            " constants.py\t\t\t        mimicdata\n",
            " converge.py\t\t\t        models.py\n",
            " dataproc\t\t\t        notebooks\n",
            " dataproc_mimic_III.ipynb\t        persistence.py\n",
            " datasets.py\t\t\t        predictions\n",
            " evaluation.py\t\t\t        preprocess.py\n",
            " get_metrics_for_saved_predictions.py   __pycache__\n",
            " ICD9_descriptions\t\t        README.md\n",
            " input_files\t\t\t        saved_models\n",
            " learn\t\t\t\t       'training command.txt'\n",
            " LICENSE\t\t\t        training.py\n"
          ],
          "name": "stdout"
        }
      ]
    },
    {
      "cell_type": "code",
      "metadata": {
        "id": "upqKKhwa6oT3",
        "colab_type": "code",
        "colab": {}
      },
      "source": [
        "import converge\n",
        "import argparse\n",
        "\n",
        "FILES = '/content/gdrive/My Drive/clinical_notes_ICD9/input_files/'\n",
        "\n",
        "args = argparse.Namespace()\n",
        "args.data_path = FILES + 'notes_labeled_train.ndjson'\n",
        "args.vocab = FILES + 'vocab.csv'\n",
        "args.Y = 'full'\n",
        "args.dims = [300,125,125,125] # first number should be dimension of embeddings\n",
        "args.embed_file = FILES + 'glove.840B.300d.txt'\n",
        "#args.embed_file = FILES + 'glove.42B.300d.txt'\n",
        "args.data_dir = '/content/gdrive/My Drive/data'\n",
        "args.exclude_non_billable = False\n",
        "args.embed_normalize = False\n",
        "args.include_invalid = False\n",
        "args.hier = False\n",
        "args.embed_desc = True\n"
      ],
      "execution_count": 0,
      "outputs": []
    },
    {
      "cell_type": "code",
      "metadata": {
        "id": "sMjOz09cO-Q5",
        "colab_type": "code",
        "outputId": "48f17c20-2460-4ee0-9857-e4704eacd0fa",
        "colab": {
          "base_uri": "https://localhost:8080/",
          "height": 68
        }
      },
      "source": [
        "W = converge.main(args)"
      ],
      "execution_count": 20,
      "outputs": [
        {
          "output_type": "stream",
          "text": [
            "loading lookups...\n",
            "vocabulary coverage: 0.6987004622262636\n",
            "TOTAL ELAPSED TIME: 0:06:16\n"
          ],
          "name": "stdout"
        }
      ]
    },
    {
      "cell_type": "code",
      "metadata": {
        "id": "QRgP4trbCkrJ",
        "colab_type": "code",
        "colab": {
          "base_uri": "https://localhost:8080/",
          "height": 34
        },
        "outputId": "ccc4620b-6c6b-40de-fa89-437ff0098963"
      },
      "source": [
        "W.shape"
      ],
      "execution_count": 21,
      "outputs": [
        {
          "output_type": "execute_result",
          "data": {
            "text/plain": [
              "(52790, 300)"
            ]
          },
          "metadata": {
            "tags": []
          },
          "execution_count": 21
        }
      ]
    },
    {
      "cell_type": "code",
      "metadata": {
        "id": "uCcke1zU6QgE",
        "colab_type": "code",
        "colab": {
          "base_uri": "https://localhost:8080/",
          "height": 1000
        },
        "outputId": "3a4d8d13-fd6e-45ce-b6b5-95d1c25be6af"
      },
      "source": [
        "W[1][:]"
      ],
      "execution_count": 22,
      "outputs": [
        {
          "output_type": "execute_result",
          "data": {
            "text/plain": [
              "array([-7.9568e-02, -2.3738e-01,  1.0734e-01, -6.9751e-01,  1.3749e-01,\n",
              "       -8.7236e-02, -2.2700e-02, -6.3846e-02, -5.9558e-01, -9.2333e-01,\n",
              "       -5.8506e-01, -3.9304e-01,  4.6665e-01,  1.4949e-01,  1.1291e-01,\n",
              "        4.6623e-01,  2.8421e-02,  6.1141e-01,  3.7304e-01, -4.2010e-02,\n",
              "        2.3882e-03,  9.1088e-02, -3.4563e-02, -4.7462e-03, -2.3180e-01,\n",
              "       -2.3178e-01, -2.8924e-01, -8.6990e-02, -2.9319e-01,  1.1041e-01,\n",
              "       -5.7100e-01,  3.0653e-01,  2.6495e-01, -5.4719e-01,  3.4174e-02,\n",
              "        4.4904e-01,  1.1337e-01,  4.9639e-02, -1.0291e-01,  2.1726e-01,\n",
              "        4.6425e-01, -9.6200e-02,  1.0582e-03, -2.9875e-01,  1.7517e-01,\n",
              "       -5.0695e-01,  2.5085e-01, -2.1012e-01,  4.7253e-01,  1.0053e-01,\n",
              "        4.0678e-01, -3.7779e-01,  2.3044e-01, -4.7629e-02,  3.1770e-01,\n",
              "        2.1561e-01,  2.4176e-01, -6.0526e-01,  5.4473e-01, -2.7769e-01,\n",
              "        5.5263e-01,  3.3789e-01, -1.9275e-01,  6.1141e-02, -2.2664e-02,\n",
              "        3.0096e-01,  9.8137e-02, -3.2813e-01, -5.1341e-02,  3.6842e-01,\n",
              "       -2.4024e-01,  6.8273e-02,  5.6074e-01, -3.0882e-02, -3.6466e-01,\n",
              "        3.9181e-02,  1.3036e-01, -2.5742e-01, -1.2029e-01, -9.8443e-02,\n",
              "        1.5902e-01, -1.3377e-01, -2.7450e-01,  1.4427e-01,  3.9465e-01,\n",
              "        1.7331e-01,  1.8954e-01, -1.5640e+00,  3.2499e-01, -1.4200e-01,\n",
              "        1.1283e-01, -2.6944e-01,  4.6092e-02,  2.5284e-02, -3.9694e-01,\n",
              "        1.5828e-03,  3.4901e-01, -4.6675e-01, -1.7373e-01,  5.0393e-02,\n",
              "        2.7334e-01,  1.5829e-01,  3.0986e-02, -1.3374e-01, -2.1403e-01,\n",
              "        9.6078e-01,  1.9071e-01, -6.8861e-01, -2.4621e-01,  1.0193e-01,\n",
              "       -9.2104e-02,  5.7814e-01,  8.0407e-02, -1.5924e-01,  1.0406e-01,\n",
              "        1.1463e-01, -1.5687e-01, -3.3472e-01, -2.5292e-01,  3.7833e-02,\n",
              "        3.1463e-01,  4.8415e-01, -2.5810e-01, -8.0130e-02,  8.0285e-01,\n",
              "       -6.5837e-02,  2.9056e-01,  5.7389e-01, -2.3984e-01,  2.6823e-01,\n",
              "        1.8412e-01,  6.7688e-01, -1.2791e-01,  4.1038e-01, -2.9371e-01,\n",
              "       -7.9249e-03, -7.3817e-04, -3.2663e-01, -5.1942e-02,  4.4887e-02,\n",
              "       -9.4082e-01,  4.3514e-01,  2.4586e-01, -2.7393e-01,  3.6179e-01,\n",
              "       -8.0848e-02,  9.9928e-02,  2.2220e-01,  3.0157e-01,  2.2546e-01,\n",
              "       -8.5138e-01,  4.1040e-01, -4.2758e-01,  2.9818e-01,  2.5738e-01,\n",
              "       -2.6476e-01, -4.2504e-02, -2.3881e-01,  2.1342e-01,  8.8550e-02,\n",
              "       -9.0126e-01,  3.4161e-01,  1.5291e-01, -4.9469e-01, -1.4082e-01,\n",
              "        5.9004e-03, -6.0838e-01, -3.9458e-01, -4.3567e-01, -3.0883e-01,\n",
              "       -1.1099e-01, -2.6984e-01, -3.5407e-01, -1.4926e-01,  2.3839e-01,\n",
              "       -2.6055e-01, -3.3040e-01,  8.2831e-02,  1.5637e-02, -6.8943e-01,\n",
              "       -6.1434e-01,  4.6421e-01,  2.2592e-01,  1.7231e-02, -4.5437e-02,\n",
              "       -1.3368e-01, -3.3064e-01,  2.7258e-01, -2.1450e-01, -5.5968e-01,\n",
              "       -8.9372e-02,  2.3080e-01, -3.7482e-01,  5.1748e-01,  1.0127e-01,\n",
              "       -3.0581e-02, -1.5116e-01, -5.2914e-01, -1.2857e-01,  2.7505e-01,\n",
              "        1.1266e-01,  3.2673e-01, -4.7228e-02,  1.2550e-01,  2.3551e-02,\n",
              "       -6.0409e-01, -1.4038e-02,  1.2376e-01,  3.3801e-01, -3.1330e-01,\n",
              "       -4.1266e-01,  1.1490e-01, -3.5165e-01,  4.1394e-01,  6.9588e-01,\n",
              "        1.5114e-01,  6.5241e-02, -1.1277e+00,  1.7739e-01, -5.6547e-02,\n",
              "        2.2361e-01,  1.7703e-01, -5.3622e-02, -2.7678e-03, -1.6311e-01,\n",
              "       -5.7194e-02, -4.9940e-01,  4.0967e-01, -3.8518e-01, -6.0587e-01,\n",
              "       -2.2596e-01, -2.7578e-01,  1.4128e-02,  4.6682e-01, -2.1984e-01,\n",
              "       -1.1767e-01,  7.0224e-01,  3.9185e-01, -2.2103e-01,  3.1057e-01,\n",
              "        2.8782e-01,  1.3850e-02,  5.8388e-02,  5.5538e-01,  4.5651e-01,\n",
              "       -5.4714e-02, -3.5372e-01, -7.5810e-02, -3.2126e-01,  1.9066e-01,\n",
              "       -2.5143e-01, -6.5066e-01, -1.1623e-01,  2.6069e-02,  2.5836e-01,\n",
              "       -7.5955e-02, -5.3171e-02,  2.5073e-01, -9.0711e-02, -1.4245e-01,\n",
              "       -6.1995e-01, -1.0035e-01,  1.9055e-01,  5.8519e-02, -1.1118e-01,\n",
              "        2.3998e-01, -1.7208e-03, -2.9936e-01,  4.9861e-01,  8.6813e-02,\n",
              "       -5.6967e-02, -2.3423e-01,  2.3322e-01, -1.1328e-01, -2.9966e-01,\n",
              "        1.1779e-01,  4.0908e-01,  7.3609e-03,  1.5209e-02, -3.0789e-01,\n",
              "       -2.0086e-01,  1.3523e-01, -1.2127e-02,  2.0902e-01,  1.3968e-01,\n",
              "       -4.6074e-01, -7.4070e-03,  3.3185e-01, -5.6698e-02,  6.1711e-01,\n",
              "        5.1168e-01,  2.3383e-01, -3.7691e-01, -8.9518e-02, -7.7804e-02,\n",
              "        5.7216e-02, -4.1248e-01, -2.6990e-01,  8.0032e-01, -2.6065e-01])"
            ]
          },
          "metadata": {
            "tags": []
          },
          "execution_count": 22
        }
      ]
    }
  ]
}