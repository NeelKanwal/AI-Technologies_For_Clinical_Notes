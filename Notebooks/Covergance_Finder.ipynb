{
  "nbformat": 4,
  "nbformat_minor": 0,
  "metadata": {
    "colab": {
      "name": "Covergance_Finder (1).ipynb",
      "provenance": [],
      "collapsed_sections": []
    },
    "kernelspec": {
      "name": "python3",
      "display_name": "Python 3"
    },
    "accelerator": "GPU"
  },
  "cells": [
    {
      "cell_type": "markdown",
      "metadata": {
        "id": "zj7y0SaiIxKh",
        "colab_type": "text"
      },
      "source": [
        "To laod data from Google Drive, It can be upload in the file section but is volative to use.\n",
        "\n",
        "\n",
        "\n"
      ]
    },
    {
      "cell_type": "code",
      "metadata": {
        "id": "m9b4U8oG53gu",
        "colab_type": "code",
        "colab": {}
      },
      "source": [
        "!git clone https://github.com/NeelKanwal/AI-Technologies_For_Clinical_Notes\n",
        "!pip install jsonlines"
      ],
      "execution_count": 0,
      "outputs": []
    },
    {
      "cell_type": "code",
      "metadata": {
        "id": "pQYpSh7hdBdh",
        "colab_type": "code",
        "colab": {}
      },
      "source": [
        "from google.colab import drive\n",
        "import sys\n",
        "drive.mount('/content/gdrive',force_remount=True) "
      ],
      "execution_count": 0,
      "outputs": []
    },
    {
      "cell_type": "markdown",
      "metadata": {
        "id": "YzB9LqSnI4yj",
        "colab_type": "text"
      },
      "source": [
        "Just to change the directory to currect working directory for laoding files, useful incase working on specifing folders\n",
        "\n"
      ]
    },
    {
      "cell_type": "code",
      "metadata": {
        "id": "WhS5hEldXFVf",
        "colab_type": "code",
        "colab": {}
      },
      "source": [
        "import os\n",
        "os.chdir(\"/content/gdrive/My Drive/clinical_notes_ICD9\")\n",
        "!ls"
      ],
      "execution_count": 0,
      "outputs": []
    },
    {
      "cell_type": "code",
      "metadata": {
        "id": "upqKKhwa6oT3",
        "colab_type": "code",
        "colab": {}
      },
      "source": [
        "import converge\n",
        "import argparse\n",
        "\n",
        "FILES = '/content/gdrive/My Drive/clinical_notes_ICD9/input_files/'\n",
        "\n",
        "args = argparse.Namespace()\n",
        "args.data_path = FILES + 'notes_labeled_train.ndjson'\n",
        "args.vocab = FILES + 'vocab.csv'\n",
        "args.Y = 'full'\n",
        "args.dims = [300,125,125,125] # first number should be dimension of embeddings\n",
        "args.embed_file1 = FILES + 'glove.42B.300d.txt'\n",
        "args.embed_file2 = FILES + 'GoogleNews-vectors-negative300.bin'\n",
        "args.data_dir = '/content/gdrive/My Drive/data'\n",
        "args.exclude_non_billable = False\n",
        "args.embed_normalize = False\n",
        "args.include_invalid = False\n",
        "args.gpu = True\n",
        "args.hier = False\n",
        "args.embed_desc = True\n",
        "args.embed=\"stack\"\n"
      ],
      "execution_count": 0,
      "outputs": []
    },
    {
      "cell_type": "code",
      "metadata": {
        "id": "sMjOz09cO-Q5",
        "colab_type": "code",
        "colab": {}
      },
      "source": [
        "W = converge.main(args)"
      ],
      "execution_count": 0,
      "outputs": []
    }
  ]
}