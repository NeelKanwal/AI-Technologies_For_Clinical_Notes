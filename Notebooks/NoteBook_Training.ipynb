{
  "nbformat": 4,
  "nbformat_minor": 0,
  "metadata": {
    "colab": {
      "name": "Untitled0.ipynb",
      "provenance": [],
      "collapsed_sections": []
    },
    "kernelspec": {
      "name": "python3",
      "display_name": "Python 3"
    },
    "accelerator": "GPU"
  },
  "cells": [
    {
      "cell_type": "code",
      "metadata": {
        "id": "m9b4U8oG53gu",
        "colab_type": "code",
        "outputId": "18c22f59-738b-481c-bc79-0b157bec4e9f",
        "colab": {
          "base_uri": "https://localhost:8080/",
          "height": 332
        }
      },
      "source": [
        "!git clone https://github.com/Oxford-Boella-NLP/clinical_notes_ICD9.git\n",
        "!pip install jsonlines\n",
        "\n",
        "from google.colab import drive\n",
        "import sys\n",
        "drive.mount('/content/gdrive')\n",
        "sys.path.append('clinical_notes_ICD9')"
      ],
      "execution_count": 0,
      "outputs": [
        {
          "output_type": "stream",
          "text": [
            "Cloning into 'caml-mimic'...\n",
            "remote: Enumerating objects: 123, done.\u001b[K\n",
            "remote: Counting objects:   0% (1/123)   \u001b[K\rremote: Counting objects:   1% (2/123)   \u001b[K\rremote: Counting objects:   2% (3/123)   \u001b[K\rremote: Counting objects:   3% (4/123)   \u001b[K\rremote: Counting objects:   4% (5/123)   \u001b[K\rremote: Counting objects:   5% (7/123)   \u001b[K\rremote: Counting objects:   6% (8/123)   \u001b[K\rremote: Counting objects:   7% (9/123)   \u001b[K\rremote: Counting objects:   8% (10/123)   \u001b[K\rremote: Counting objects:   9% (12/123)   \u001b[K\rremote: Counting objects:  10% (13/123)   \u001b[K\rremote: Counting objects:  11% (14/123)   \u001b[K\rremote: Counting objects:  12% (15/123)   \u001b[K\rremote: Counting objects:  13% (16/123)   \u001b[K\rremote: Counting objects:  14% (18/123)   \u001b[K\rremote: Counting objects:  15% (19/123)   \u001b[K\rremote: Counting objects:  16% (20/123)   \u001b[K\rremote: Counting objects:  17% (21/123)   \u001b[K\rremote: Counting objects:  18% (23/123)   \u001b[K\rremote: Counting objects:  19% (24/123)   \u001b[K\rremote: Counting objects:  20% (25/123)   \u001b[K\rremote: Counting objects:  21% (26/123)   \u001b[K\rremote: Counting objects:  22% (28/123)   \u001b[K\rremote: Counting objects:  23% (29/123)   \u001b[K\rremote: Counting objects:  24% (30/123)   \u001b[K\rremote: Counting objects:  25% (31/123)   \u001b[K\rremote: Counting objects:  26% (32/123)   \u001b[K\rremote: Counting objects:  27% (34/123)   \u001b[K\rremote: Counting objects:  28% (35/123)   \u001b[K\rremote: Counting objects:  29% (36/123)   \u001b[K\rremote: Counting objects:  30% (37/123)   \u001b[K\rremote: Counting objects:  31% (39/123)   \u001b[K\rremote: Counting objects:  32% (40/123)   \u001b[K\rremote: Counting objects:  33% (41/123)   \u001b[K\rremote: Counting objects:  34% (42/123)   \u001b[K\rremote: Counting objects:  35% (44/123)   \u001b[K\rremote: Counting objects:  36% (45/123)   \u001b[K\rremote: Counting objects:  37% (46/123)   \u001b[K\rremote: Counting objects:  38% (47/123)   \u001b[K\rremote: Counting objects:  39% (48/123)   \u001b[K\rremote: Counting objects:  40% (50/123)   \u001b[K\rremote: Counting objects:  41% (51/123)   \u001b[K\rremote: Counting objects:  42% (52/123)   \u001b[K\rremote: Counting objects:  43% (53/123)   \u001b[K\rremote: Counting objects:  44% (55/123)   \u001b[K\rremote: Counting objects:  45% (56/123)   \u001b[K\rremote: Counting objects:  46% (57/123)   \u001b[K\rremote: Counting objects:  47% (58/123)   \u001b[K\rremote: Counting objects:  48% (60/123)   \u001b[K\rremote: Counting objects:  49% (61/123)   \u001b[K\rremote: Counting objects:  50% (62/123)   \u001b[K\rremote: Counting objects:  51% (63/123)   \u001b[K\rremote: Counting objects:  52% (64/123)   \u001b[K\rremote: Counting objects:  53% (66/123)   \u001b[K\rremote: Counting objects:  54% (67/123)   \u001b[K\rremote: Counting objects:  55% (68/123)   \u001b[K\rremote: Counting objects:  56% (69/123)   \u001b[K\rremote: Counting objects:  57% (71/123)   \u001b[K\rremote: Counting objects:  58% (72/123)   \u001b[K\rremote: Counting objects:  59% (73/123)   \u001b[K\rremote: Counting objects:  60% (74/123)   \u001b[K\rremote: Counting objects:  61% (76/123)   \u001b[K\rremote: Counting objects:  62% (77/123)   \u001b[K\rremote: Counting objects:  63% (78/123)   \u001b[K\rremote: Counting objects:  64% (79/123)   \u001b[K\rremote: Counting objects:  65% (80/123)   \u001b[K\rremote: Counting objects:  66% (82/123)   \u001b[K\rremote: Counting objects:  67% (83/123)   \u001b[K\rremote: Counting objects:  68% (84/123)   \u001b[K\rremote: Counting objects:  69% (85/123)   \u001b[K\rremote: Counting objects:  70% (87/123)   \u001b[K\rremote: Counting objects:  71% (88/123)   \u001b[K\rremote: Counting objects:  72% (89/123)   \u001b[K\rremote: Counting objects:  73% (90/123)   \u001b[K\rremote: Counting objects:  74% (92/123)   \u001b[K\rremote: Counting objects:  75% (93/123)   \u001b[K\rremote: Counting objects:  76% (94/123)   \u001b[K\rremote: Counting objects:  77% (95/123)   \u001b[K\rremote: Counting objects:  78% (96/123)   \u001b[K\rremote: Counting objects:  79% (98/123)   \u001b[K\rremote: Counting objects:  80% (99/123)   \u001b[K\rremote: Counting objects:  81% (100/123)   \u001b[K\rremote: Counting objects:  82% (101/123)   \u001b[K\rremote: Counting objects:  83% (103/123)   \u001b[K\rremote: Counting objects:  84% (104/123)   \u001b[K\rremote: Counting objects:  85% (105/123)   \u001b[K\rremote: Counting objects:  86% (106/123)   \u001b[K\rremote: Counting objects:  87% (108/123)   \u001b[K\rremote: Counting objects:  88% (109/123)   \u001b[K\rremote: Counting objects:  89% (110/123)   \u001b[K\rremote: Counting objects:  90% (111/123)   \u001b[K\rremote: Counting objects:  91% (112/123)   \u001b[K\rremote: Counting objects:  92% (114/123)   \u001b[K\rremote: Counting objects:  93% (115/123)   \u001b[K\rremote: Counting objects:  94% (116/123)   \u001b[K\rremote: Counting objects:  95% (117/123)   \u001b[K\rremote: Counting objects:  96% (119/123)   \u001b[K\rremote: Counting objects:  97% (120/123)   \u001b[K\rremote: Counting objects:  98% (121/123)   \u001b[K\rremote: Counting objects:  99% (122/123)   \u001b[K\rremote: Counting objects: 100% (123/123)   \u001b[K\rremote: Counting objects: 100% (123/123), done.\u001b[K\n",
            "remote: Compressing objects:   1% (1/95)   \u001b[K\rremote: Compressing objects:   2% (2/95)   \u001b[K\rremote: Compressing objects:   3% (3/95)   \u001b[K\rremote: Compressing objects:   4% (4/95)   \u001b[K\rremote: Compressing objects:   5% (5/95)   \u001b[K\rremote: Compressing objects:   6% (6/95)   \u001b[K\rremote: Compressing objects:   7% (7/95)   \u001b[K\rremote: Compressing objects:   8% (8/95)   \u001b[K\rremote: Compressing objects:   9% (9/95)   \u001b[K\rremote: Compressing objects:  10% (10/95)   \u001b[K\rremote: Compressing objects:  11% (11/95)   \u001b[K\rremote: Compressing objects:  12% (12/95)   \u001b[K\rremote: Compressing objects:  13% (13/95)   \u001b[K\rremote: Compressing objects:  14% (14/95)   \u001b[K\rremote: Compressing objects:  15% (15/95)   \u001b[K\rremote: Compressing objects:  16% (16/95)   \u001b[K\rremote: Compressing objects:  17% (17/95)   \u001b[K\rremote: Compressing objects:  18% (18/95)   \u001b[K\rremote: Compressing objects:  20% (19/95)   \u001b[K\rremote: Compressing objects:  21% (20/95)   \u001b[K\rremote: Compressing objects:  22% (21/95)   \u001b[K\rremote: Compressing objects:  23% (22/95)   \u001b[K\rremote: Compressing objects:  24% (23/95)   \u001b[K\rremote: Compressing objects:  25% (24/95)   \u001b[K\rremote: Compressing objects:  26% (25/95)   \u001b[K\rremote: Compressing objects:  27% (26/95)   \u001b[K\rremote: Compressing objects:  28% (27/95)   \u001b[K\rremote: Compressing objects:  29% (28/95)   \u001b[K\rremote: Compressing objects:  30% (29/95)   \u001b[K\rremote: Compressing objects:  31% (30/95)   \u001b[K\rremote: Compressing objects:  32% (31/95)   \u001b[K\rremote: Compressing objects:  33% (32/95)   \u001b[K\rremote: Compressing objects:  34% (33/95)   \u001b[K\rremote: Compressing objects:  35% (34/95)   \u001b[K\rremote: Compressing objects:  36% (35/95)   \u001b[K\rremote: Compressing objects:  37% (36/95)   \u001b[K\rremote: Compressing objects:  38% (37/95)   \u001b[K\rremote: Compressing objects:  40% (38/95)   \u001b[K\rremote: Compressing objects:  41% (39/95)   \u001b[K\rremote: Compressing objects:  42% (40/95)   \u001b[K\rremote: Compressing objects:  43% (41/95)   \u001b[K\rremote: Compressing objects:  44% (42/95)   \u001b[K\rremote: Compressing objects:  45% (43/95)   \u001b[K\rremote: Compressing objects:  46% (44/95)   \u001b[K\rremote: Compressing objects:  47% (45/95)   \u001b[K\rremote: Compressing objects:  48% (46/95)   \u001b[K\rremote: Compressing objects:  49% (47/95)   \u001b[K\rremote: Compressing objects:  50% (48/95)   \u001b[K\rremote: Compressing objects:  51% (49/95)   \u001b[K\rremote: Compressing objects:  52% (50/95)   \u001b[K\rremote: Compressing objects:  53% (51/95)   \u001b[K\rremote: Compressing objects:  54% (52/95)   \u001b[K\rremote: Compressing objects:  55% (53/95)   \u001b[K\rremote: Compressing objects:  56% (54/95)   \u001b[K\rremote: Compressing objects:  57% (55/95)   \u001b[K\rremote: Compressing objects:  58% (56/95)   \u001b[K\rremote: Compressing objects:  60% (57/95)   \u001b[K\rremote: Compressing objects:  61% (58/95)   \u001b[K\rremote: Compressing objects:  62% (59/95)   \u001b[K\rremote: Compressing objects:  63% (60/95)   \u001b[K\rremote: Compressing objects:  64% (61/95)   \u001b[K\rremote: Compressing objects:  65% (62/95)   \u001b[K\rremote: Compressing objects:  66% (63/95)   \u001b[K\rremote: Compressing objects:  67% (64/95)   \u001b[K\rremote: Compressing objects:  68% (65/95)   \u001b[K\rremote: Compressing objects:  69% (66/95)   \u001b[K\rremote: Compressing objects:  70% (67/95)   \u001b[K\rremote: Compressing objects:  71% (68/95)   \u001b[K\rremote: Compressing objects:  72% (69/95)   \u001b[K\rremote: Compressing objects:  73% (70/95)   \u001b[K\rremote: Compressing objects:  74% (71/95)   \u001b[K\rremote: Compressing objects:  75% (72/95)   \u001b[K\rremote: Compressing objects:  76% (73/95)   \u001b[K\rremote: Compressing objects:  77% (74/95)   \u001b[K\rremote: Compressing objects:  78% (75/95)   \u001b[K\rremote: Compressing objects:  80% (76/95)   \u001b[K\rremote: Compressing objects:  81% (77/95)   \u001b[K\rremote: Compressing objects:  82% (78/95)   \u001b[K\rremote: Compressing objects:  83% (79/95)   \u001b[K\rremote: Compressing objects:  84% (80/95)   \u001b[K\rremote: Compressing objects:  85% (81/95)   \u001b[K\rremote: Compressing objects:  86% (82/95)   \u001b[K\rremote: Compressing objects:  87% (83/95)   \u001b[K\rremote: Compressing objects:  88% (84/95)   \u001b[K\rremote: Compressing objects:  89% (85/95)   \u001b[K\rremote: Compressing objects:  90% (86/95)   \u001b[K\rremote: Compressing objects:  91% (87/95)   \u001b[K\rremote: Compressing objects:  92% (88/95)   \u001b[K\rremote: Compressing objects:  93% (89/95)   \u001b[K\rremote: Compressing objects:  94% (90/95)   \u001b[K\rremote: Compressing objects:  95% (91/95)   \u001b[K\rremote: Compressing objects:  96% (92/95)   \u001b[K\rremote: Compressing objects:  97% (93/95)   \u001b[K\rremote: Compressing objects:  98% (94/95)   \u001b[K\rremote: Compressing objects: 100% (95/95)   \u001b[K\rremote: Compressing objects: 100% (95/95), done.\u001b[K\n",
            "Receiving objects:   0% (1/627)   \rReceiving objects:   1% (7/627)   \rReceiving objects:   2% (13/627)   \rReceiving objects:   3% (19/627)   \rReceiving objects:   4% (26/627)   \rReceiving objects:   5% (32/627)   \rReceiving objects:   6% (38/627)   \rReceiving objects:   7% (44/627)   \rReceiving objects:   8% (51/627)   \rReceiving objects:   9% (57/627)   \rReceiving objects:  10% (63/627)   \rReceiving objects:  11% (69/627)   \rReceiving objects:  12% (76/627)   \rReceiving objects:  13% (82/627)   \rReceiving objects:  14% (88/627)   \rReceiving objects:  15% (95/627)   \rReceiving objects:  16% (101/627)   \rReceiving objects:  17% (107/627)   \rReceiving objects:  18% (113/627)   \rReceiving objects:  18% (119/627), 47.70 MiB | 47.69 MiB/s   \rReceiving objects:  19% (120/627), 47.70 MiB | 47.69 MiB/s   \rReceiving objects:  20% (126/627), 47.70 MiB | 47.69 MiB/s   \rReceiving objects:  21% (132/627), 47.70 MiB | 47.69 MiB/s   \rReceiving objects:  22% (138/627), 75.14 MiB | 50.09 MiB/s   \rReceiving objects:  22% (141/627), 100.69 MiB | 50.34 MiB/s   \rReceiving objects:  23% (145/627), 100.69 MiB | 50.34 MiB/s   \rReceiving objects:  24% (151/627), 100.69 MiB | 50.34 MiB/s   \rReceiving objects:  25% (157/627), 100.69 MiB | 50.34 MiB/s   \rReceiving objects:  26% (164/627), 100.69 MiB | 50.34 MiB/s   \rReceiving objects:  27% (170/627), 100.69 MiB | 50.34 MiB/s   \rReceiving objects:  28% (176/627), 100.69 MiB | 50.34 MiB/s   \rReceiving objects:  29% (182/627), 100.69 MiB | 50.34 MiB/s   \rReceiving objects:  30% (189/627), 100.69 MiB | 50.34 MiB/s   \rReceiving objects:  31% (195/627), 100.69 MiB | 50.34 MiB/s   \rReceiving objects:  32% (201/627), 100.69 MiB | 50.34 MiB/s   \rReceiving objects:  33% (207/627), 100.69 MiB | 50.34 MiB/s   \rReceiving objects:  34% (214/627), 100.69 MiB | 50.34 MiB/s   \rReceiving objects:  35% (220/627), 119.84 MiB | 47.94 MiB/s   \rReceiving objects:  36% (226/627), 119.84 MiB | 47.94 MiB/s   \rReceiving objects:  37% (232/627), 119.84 MiB | 47.94 MiB/s   \rReceiving objects:  37% (234/627), 130.69 MiB | 43.56 MiB/s   \rReceiving objects:  38% (239/627), 130.69 MiB | 43.56 MiB/s   \rReceiving objects:  39% (245/627), 130.69 MiB | 43.56 MiB/s   \rReceiving objects:  40% (251/627), 142.35 MiB | 40.67 MiB/s   \rReceiving objects:  41% (258/627), 142.35 MiB | 40.67 MiB/s   \rReceiving objects:  42% (264/627), 142.35 MiB | 40.67 MiB/s   \rReceiving objects:  43% (270/627), 142.35 MiB | 40.67 MiB/s   \rReceiving objects:  44% (276/627), 142.35 MiB | 40.67 MiB/s   \rReceiving objects:  45% (283/627), 142.35 MiB | 40.67 MiB/s   \rReceiving objects:  46% (289/627), 142.35 MiB | 40.67 MiB/s   \rReceiving objects:  47% (295/627), 142.35 MiB | 40.67 MiB/s   \rReceiving objects:  48% (301/627), 142.35 MiB | 40.67 MiB/s   \rReceiving objects:  49% (308/627), 142.35 MiB | 40.67 MiB/s   \rReceiving objects:  50% (314/627), 142.35 MiB | 40.67 MiB/s   \rReceiving objects:  51% (320/627), 142.35 MiB | 40.67 MiB/s   \rReceiving objects:  52% (327/627), 142.35 MiB | 40.67 MiB/s   \rReceiving objects:  53% (333/627), 142.35 MiB | 40.67 MiB/s   \rReceiving objects:  54% (339/627), 142.35 MiB | 40.67 MiB/s   \rReceiving objects:  55% (345/627), 142.35 MiB | 40.67 MiB/s   \rReceiving objects:  56% (352/627), 142.35 MiB | 40.67 MiB/s   \rReceiving objects:  57% (358/627), 142.35 MiB | 40.67 MiB/s   \rReceiving objects:  58% (364/627), 142.35 MiB | 40.67 MiB/s   \rReceiving objects:  59% (370/627), 142.35 MiB | 40.67 MiB/s   \rReceiving objects:  60% (377/627), 142.35 MiB | 40.67 MiB/s   \rReceiving objects:  61% (383/627), 142.35 MiB | 40.67 MiB/s   \rReceiving objects:  62% (389/627), 142.35 MiB | 40.67 MiB/s   \rReceiving objects:  63% (396/627), 142.35 MiB | 40.67 MiB/s   \rReceiving objects:  64% (402/627), 142.35 MiB | 40.67 MiB/s   \rReceiving objects:  65% (408/627), 142.35 MiB | 40.67 MiB/s   \rReceiving objects:  66% (414/627), 142.35 MiB | 40.67 MiB/s   \rReceiving objects:  67% (421/627), 142.35 MiB | 40.67 MiB/s   \rReceiving objects:  68% (427/627), 142.35 MiB | 40.67 MiB/s   \rReceiving objects:  69% (433/627), 142.35 MiB | 40.67 MiB/s   \rReceiving objects:  70% (439/627), 142.35 MiB | 40.67 MiB/s   \rReceiving objects:  71% (446/627), 142.35 MiB | 40.67 MiB/s   \rReceiving objects:  72% (452/627), 142.35 MiB | 40.67 MiB/s   \rReceiving objects:  73% (458/627), 142.35 MiB | 40.67 MiB/s   \rReceiving objects:  74% (464/627), 142.35 MiB | 40.67 MiB/s   \rReceiving objects:  75% (471/627), 142.35 MiB | 40.67 MiB/s   \rremote: Total 627 (delta 70), reused 59 (delta 28), pack-reused 504\u001b[K\n",
            "Receiving objects:  76% (477/627), 142.35 MiB | 40.67 MiB/s   \rReceiving objects:  77% (483/627), 142.35 MiB | 40.67 MiB/s   \rReceiving objects:  78% (490/627), 142.35 MiB | 40.67 MiB/s   \rReceiving objects:  79% (496/627), 142.35 MiB | 40.67 MiB/s   \rReceiving objects:  80% (502/627), 142.35 MiB | 40.67 MiB/s   \rReceiving objects:  81% (508/627), 142.35 MiB | 40.67 MiB/s   \rReceiving objects:  82% (515/627), 142.35 MiB | 40.67 MiB/s   \rReceiving objects:  83% (521/627), 142.35 MiB | 40.67 MiB/s   \rReceiving objects:  84% (527/627), 142.35 MiB | 40.67 MiB/s   \rReceiving objects:  85% (533/627), 142.35 MiB | 40.67 MiB/s   \rReceiving objects:  86% (540/627), 142.35 MiB | 40.67 MiB/s   \rReceiving objects:  87% (546/627), 142.35 MiB | 40.67 MiB/s   \rReceiving objects:  88% (552/627), 142.35 MiB | 40.67 MiB/s   \rReceiving objects:  89% (559/627), 142.35 MiB | 40.67 MiB/s   \rReceiving objects:  90% (565/627), 142.35 MiB | 40.67 MiB/s   \rReceiving objects:  91% (571/627), 142.35 MiB | 40.67 MiB/s   \rReceiving objects:  92% (577/627), 142.35 MiB | 40.67 MiB/s   \rReceiving objects:  93% (584/627), 142.35 MiB | 40.67 MiB/s   \rReceiving objects:  94% (590/627), 142.35 MiB | 40.67 MiB/s   \rReceiving objects:  95% (596/627), 142.35 MiB | 40.67 MiB/s   \rReceiving objects:  96% (602/627), 142.35 MiB | 40.67 MiB/s   \rReceiving objects:  97% (609/627), 142.35 MiB | 40.67 MiB/s   \rReceiving objects:  98% (615/627), 142.35 MiB | 40.67 MiB/s   \rReceiving objects:  99% (621/627), 142.35 MiB | 40.67 MiB/s   \rReceiving objects: 100% (627/627), 142.35 MiB | 40.67 MiB/s   \rReceiving objects: 100% (627/627), 150.48 MiB | 39.09 MiB/s, done.\n",
            "Resolving deltas:   0% (0/309)   \rResolving deltas:   1% (6/309)   \rResolving deltas:   2% (8/309)   \rResolving deltas:   3% (12/309)   \rResolving deltas:   4% (14/309)   \rResolving deltas:   5% (18/309)   \rResolving deltas:   6% (19/309)   \rResolving deltas:   7% (22/309)   \rResolving deltas:   8% (26/309)   \rResolving deltas:   9% (29/309)   \rResolving deltas:  11% (36/309)   \rResolving deltas:  12% (40/309)   \rResolving deltas:  14% (44/309)   \rResolving deltas:  15% (48/309)   \rResolving deltas:  19% (59/309)   \rResolving deltas:  20% (64/309)   \rResolving deltas:  21% (65/309)   \rResolving deltas:  22% (70/309)   \rResolving deltas:  23% (73/309)   \rResolving deltas:  26% (81/309)   \rResolving deltas:  27% (84/309)   \rResolving deltas:  28% (87/309)   \rResolving deltas:  29% (90/309)   \rResolving deltas:  30% (93/309)   \rResolving deltas:  32% (99/309)   \rResolving deltas:  33% (105/309)   \rResolving deltas:  34% (107/309)   \rResolving deltas:  35% (111/309)   \rResolving deltas:  39% (122/309)   \rResolving deltas:  41% (129/309)   \rResolving deltas:  42% (130/309)   \rResolving deltas:  45% (141/309)   \rResolving deltas:  52% (162/309)   \rResolving deltas:  53% (166/309)   \rResolving deltas:  54% (168/309)   \rResolving deltas:  55% (171/309)   \rResolving deltas:  56% (174/309)   \rResolving deltas:  57% (177/309)   \rResolving deltas:  65% (201/309)   \rResolving deltas:  66% (204/309)   \rResolving deltas:  67% (209/309)   \rResolving deltas:  69% (215/309)   \rResolving deltas:  70% (218/309)   \rResolving deltas:  72% (225/309)   \rResolving deltas:  73% (226/309)   \rResolving deltas:  75% (232/309)   \rResolving deltas:  76% (236/309)   \rResolving deltas:  77% (238/309)   \rResolving deltas:  84% (261/309)   \rResolving deltas:  87% (270/309)   \rResolving deltas:  88% (273/309)   \rResolving deltas:  90% (280/309)   \rResolving deltas:  91% (283/309)   \rResolving deltas:  95% (294/309)   \rResolving deltas:  99% (306/309)   \rResolving deltas: 100% (309/309)   \rResolving deltas: 100% (309/309), done.\n",
            "Collecting jsonlines\n",
            "  Downloading https://files.pythonhosted.org/packages/4f/9a/ab96291470e305504aa4b7a2e0ec132e930da89eb3ca7a82fbe03167c131/jsonlines-1.2.0-py2.py3-none-any.whl\n",
            "Requirement already satisfied: six in /usr/local/lib/python3.6/dist-packages (from jsonlines) (1.12.0)\n",
            "Installing collected packages: jsonlines\n",
            "Successfully installed jsonlines-1.2.0\n",
            "Go to this URL in a browser: https://accounts.google.com/o/oauth2/auth?client_id=947318989803-6bn6qk8qdgf4n4g3pfee6491hc0brc4i.apps.googleusercontent.com&redirect_uri=urn%3Aietf%3Awg%3Aoauth%3A2.0%3Aoob&scope=email%20https%3A%2F%2Fwww.googleapis.com%2Fauth%2Fdocs.test%20https%3A%2F%2Fwww.googleapis.com%2Fauth%2Fdrive%20https%3A%2F%2Fwww.googleapis.com%2Fauth%2Fdrive.photos.readonly%20https%3A%2F%2Fwww.googleapis.com%2Fauth%2Fpeopleapi.readonly&response_type=code\n",
            "\n",
            "Enter your authorization code:\n",
            "··········\n",
            "Mounted at /content/gdrive\n"
          ],
          "name": "stdout"
        }
      ]
    },
    {
      "cell_type": "code",
      "metadata": {
        "id": "upqKKhwa6oT3",
        "colab_type": "code",
        "outputId": "68b76b6c-e996-4568-a779-654d876000a6",
        "colab": {
          "base_uri": "https://localhost:8080/",
          "height": 1166
        }
      },
      "source": [
        "import training\n",
        "import argparse\n",
        "\n",
        "FILES = '/content/gdrive/My Drive/input_files/'\n",
        "\n",
        "args = argparse.Namespace()\n",
        "\n",
        "args.data_path = FILES + 'notes_labeled_train.ndjson'\n",
        "args.vocab = FILES + 'vocab.csv'\n",
        "args.Y = 'full'\n",
        "args.model = 'conv_dilated'\n",
        "args.dims = [300, 125, 125, 125]\n",
        "args.n_epochs = 200\n",
        "args.embed_file = FILES + 'glove.840B.300d.txt'\n",
        "args.embed_freeze = False\n",
        "args.embed_normalize = False\n",
        "args.shuffle = False\n",
        "args.filter_size = 3\n",
        "args.dilation = [1, 2, 4]\n",
        "args.weight_decay = 0\n",
        "args.lr = 0.0001\n",
        "args.batch_size = 8\n",
        "args.dropout = [0.2, 0.2, 0.2]\n",
        "args.test_model = None#'/content/gdrive/My Drive/saved_models/conv_dilated_2019-05-21_08:48:12/model_best_f1_micro_fine.pth'\n",
        "args.resume = None#'/content/gdrive/My Drive/saved_models/conv_dilated_2019-05-30_00:39:42/model_last_epoch.pth'\n",
        "args.models_dir = '/content/gdrive/My Drive/saved_models'\n",
        "args.data_dir = '/content/gdrive/My Drive/data'\n",
        "args.criterion = 'f1_micro_fine'\n",
        "args.patience = 10\n",
        "args.gpu = True\n",
        "args.max_len = 5200\n",
        "args.hier = False\n",
        "args.embed_desc = True\n",
        "args.exclude_non_billable = False\n",
        "args.include_invalid = False\n",
        "args.layer_norm = True\n",
        "\n",
        "_ = training.main(args)"
      ],
      "execution_count": 0,
      "outputs": [
        {
          "output_type": "stream",
          "text": [
            "loading lookups...\n",
            "loading model\n",
            "ConvDilated(\n",
            "  (embed_drop): Dropout(p=0.0)\n",
            "  (embed): Embedding(52176, 300, padding_idx=0)\n",
            "  (drops): ModuleList(\n",
            "    (0): Dropout(p=0.2)\n",
            "    (1): Dropout(p=0.2)\n",
            "    (2): Dropout(p=0.2)\n",
            "  )\n",
            "  (convs): ModuleList(\n",
            "    (0): Conv1d(300, 125, kernel_size=(3,), stride=(1,), padding=(1,))\n",
            "    (1): Conv1d(125, 125, kernel_size=(3,), stride=(1,), padding=(2,), dilation=(2,))\n",
            "    (2): Conv1d(125, 125, kernel_size=(3,), stride=(1,), padding=(4,), dilation=(4,))\n",
            "  )\n",
            "  (layer_norms): ModuleList(\n",
            "    (0): LayerNorm(torch.Size([125]), eps=1e-05, elementwise_affine=True)\n",
            "    (1): LayerNorm(torch.Size([125]), eps=1e-05, elementwise_affine=True)\n",
            "    (2): LayerNorm(torch.Size([125]), eps=1e-05, elementwise_affine=True)\n",
            "  )\n",
            "  (activation): Tanh()\n",
            "  (attention): Attention(\n",
            "    (softmax): Softmax()\n",
            "  )\n",
            "  (final): Linear(in_features=125, out_features=8924, bias=True)\n",
            "  (sigmoid): Sigmoid()\n",
            ")\n",
            "\n",
            "evaluating on test\n",
            "loading data from /content/gdrive/My Drive/input_files/notes_labeled_test.ndjson\n",
            "file for evaluation: test\n",
            "100% 422/422 [00:25<00:00, 16.31it/s, loss=0.00565]\n"
          ],
          "name": "stdout"
        },
        {
          "output_type": "stream",
          "text": [
            "caml-mimic/evaluation.py:101: RuntimeWarning: invalid value encountered in true_divide\n",
            "  f1_codes = 2*(prec_codes*rec_codes)/(prec_codes+rec_codes)\n",
            "/usr/local/lib/python3.6/dist-packages/sklearn/metrics/ranking.py:659: UndefinedMetricWarning: No positive samples in y_true, true positive value should be meaningless\n",
            "  UndefinedMetricWarning)\n",
            "/usr/local/lib/python3.6/dist-packages/sklearn/metrics/ranking.py:528: RuntimeWarning: invalid value encountered in true_divide\n",
            "  recall = tps / tps[-1]\n",
            "caml-mimic/evaluation.py:147: RuntimeWarning: invalid value encountered in true_divide\n",
            "  f1 = 2*(prec*rec)/(prec+rec)\n"
          ],
          "name": "stderr"
        },
        {
          "output_type": "stream",
          "text": [
            "\n",
            "metrics coarse level\n",
            "[MACRO] jaccard   precision   recall   f-measure   ROC AUC   PR AUC\n",
            "         0.1787      0.2940   0.2298      0.2580    0.6549   0.5057\n",
            "[MICRO] jaccard   precision   recall   f-measure   ROC AUC   PR AUC\n",
            "         0.4903      0.7316   0.5978      0.6580    0.7974   0.6674\n",
            "rec_at_8: 0.4063\n",
            "prec_at_8: 0.6933\n",
            "rec_at_15: 0.5730\n",
            "prec_at_15: 0.5634\n",
            "\n",
            "\n",
            "metrics fine level\n",
            "[MACRO] jaccard   precision   recall   f-measure   ROC AUC   PR AUC\n",
            "         0.0666      0.0985   0.0938      0.0961    0.8945   0.2575\n",
            "[MICRO] jaccard   precision   recall   f-measure   ROC AUC   PR AUC\n",
            "         0.3945      0.6229   0.5183      0.5658    0.9848   0.5677\n",
            "rec_at_8: 0.3844\n",
            "prec_at_8: 0.7310\n",
            "rec_at_15: 0.5414\n",
            "prec_at_15: 0.5792\n",
            "\n",
            "saved metrics to directory /content/gdrive/My Drive/saved_models/conv_dilated_2019-05-21_08:48:12\n",
            "\n",
            "TOTAL ELAPSED TIME FOR conv_dilated MODEL AND 1 EPOCHS: 0:01:47\n"
          ],
          "name": "stdout"
        }
      ]
    }
  ]
}